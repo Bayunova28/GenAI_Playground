{
  "nbformat": 4,
  "nbformat_minor": 0,
  "metadata": {
    "colab": {
      "provenance": []
    },
    "kernelspec": {
      "name": "python3",
      "display_name": "Python 3"
    },
    "language_info": {
      "name": "python"
    }
  },
  "cells": [
    {
      "cell_type": "code",
      "execution_count": 46,
      "metadata": {
        "colab": {
          "base_uri": "https://localhost:8080/"
        },
        "collapsed": true,
        "id": "nu70vLtBX74G",
        "outputId": "9ae8e25b-7ea0-4e5f-b8c1-d4a0c1bb40cc"
      },
      "outputs": [
        {
          "output_type": "stream",
          "name": "stdout",
          "text": [
            "\u001b[?25l     \u001b[90m━━━━━━━━━━━━━━━━━━━━━━━━━━━━━━━━━━━━━━━━\u001b[0m \u001b[32m0.0/67.3 kB\u001b[0m \u001b[31m?\u001b[0m eta \u001b[36m-:--:--\u001b[0m\r\u001b[2K     \u001b[91m━━━━━━━━━━━━━━━━━━━━━━━━\u001b[0m\u001b[90m╺\u001b[0m\u001b[90m━━━━━━━━━━━━━━━\u001b[0m \u001b[32m41.0/67.3 kB\u001b[0m \u001b[31m2.7 MB/s\u001b[0m eta \u001b[36m0:00:01\u001b[0m\r\u001b[2K     \u001b[90m━━━━━━━━━━━━━━━━━━━━━━━━━━━━━━━━━━━━━━━━\u001b[0m \u001b[32m67.3/67.3 kB\u001b[0m \u001b[31m1.1 MB/s\u001b[0m eta \u001b[36m0:00:00\u001b[0m\n",
            "\u001b[?25h  Installing build dependencies ... \u001b[?25l\u001b[?25hdone\n",
            "  Getting requirements to build wheel ... \u001b[?25l\u001b[?25hdone\n",
            "  Preparing metadata (pyproject.toml) ... \u001b[?25l\u001b[?25hdone\n",
            "\u001b[2K   \u001b[90m━━━━━━━━━━━━━━━━━━━━━━━━━━━━━━━━━━━━━━━━\u001b[0m \u001b[32m604.0/604.0 kB\u001b[0m \u001b[31m5.1 MB/s\u001b[0m eta \u001b[36m0:00:00\u001b[0m\n",
            "\u001b[2K   \u001b[90m━━━━━━━━━━━━━━━━━━━━━━━━━━━━━━━━━━━━━━━━\u001b[0m \u001b[32m2.4/2.4 MB\u001b[0m \u001b[31m20.9 MB/s\u001b[0m eta \u001b[36m0:00:00\u001b[0m\n",
            "\u001b[2K   \u001b[90m━━━━━━━━━━━━━━━━━━━━━━━━━━━━━━━━━━━━━━━━\u001b[0m \u001b[32m294.5/294.5 kB\u001b[0m \u001b[31m14.1 MB/s\u001b[0m eta \u001b[36m0:00:00\u001b[0m\n",
            "\u001b[2K   \u001b[90m━━━━━━━━━━━━━━━━━━━━━━━━━━━━━━━━━━━━━━━━\u001b[0m \u001b[32m273.8/273.8 kB\u001b[0m \u001b[31m14.4 MB/s\u001b[0m eta \u001b[36m0:00:00\u001b[0m\n",
            "\u001b[2K   \u001b[90m━━━━━━━━━━━━━━━━━━━━━━━━━━━━━━━━━━━━━━━━\u001b[0m \u001b[32m94.6/94.6 kB\u001b[0m \u001b[31m3.5 MB/s\u001b[0m eta \u001b[36m0:00:00\u001b[0m\n",
            "\u001b[2K   \u001b[90m━━━━━━━━━━━━━━━━━━━━━━━━━━━━━━━━━━━━━━━━\u001b[0m \u001b[32m1.9/1.9 MB\u001b[0m \u001b[31m45.9 MB/s\u001b[0m eta \u001b[36m0:00:00\u001b[0m\n",
            "\u001b[2K   \u001b[90m━━━━━━━━━━━━━━━━━━━━━━━━━━━━━━━━━━━━━━━━\u001b[0m \u001b[32m93.2/93.2 kB\u001b[0m \u001b[31m4.9 MB/s\u001b[0m eta \u001b[36m0:00:00\u001b[0m\n",
            "\u001b[2K   \u001b[90m━━━━━━━━━━━━━━━━━━━━━━━━━━━━━━━━━━━━━━━━\u001b[0m \u001b[32m13.2/13.2 MB\u001b[0m \u001b[31m37.2 MB/s\u001b[0m eta \u001b[36m0:00:00\u001b[0m\n",
            "\u001b[2K   \u001b[90m━━━━━━━━━━━━━━━━━━━━━━━━━━━━━━━━━━━━━━━━\u001b[0m \u001b[32m52.5/52.5 kB\u001b[0m \u001b[31m2.5 MB/s\u001b[0m eta \u001b[36m0:00:00\u001b[0m\n",
            "\u001b[2K   \u001b[90m━━━━━━━━━━━━━━━━━━━━━━━━━━━━━━━━━━━━━━━━\u001b[0m \u001b[32m54.4/54.4 kB\u001b[0m \u001b[31m3.2 MB/s\u001b[0m eta \u001b[36m0:00:00\u001b[0m\n",
            "\u001b[2K   \u001b[90m━━━━━━━━━━━━━━━━━━━━━━━━━━━━━━━━━━━━━━━━\u001b[0m \u001b[32m63.7/63.7 kB\u001b[0m \u001b[31m3.7 MB/s\u001b[0m eta \u001b[36m0:00:00\u001b[0m\n",
            "\u001b[2K   \u001b[90m━━━━━━━━━━━━━━━━━━━━━━━━━━━━━━━━━━━━━━━━\u001b[0m \u001b[32m341.4/341.4 kB\u001b[0m \u001b[31m15.6 MB/s\u001b[0m eta \u001b[36m0:00:00\u001b[0m\n",
            "\u001b[2K   \u001b[90m━━━━━━━━━━━━━━━━━━━━━━━━━━━━━━━━━━━━━━━━\u001b[0m \u001b[32m71.5/71.5 kB\u001b[0m \u001b[31m4.2 MB/s\u001b[0m eta \u001b[36m0:00:00\u001b[0m\n",
            "\u001b[2K   \u001b[90m━━━━━━━━━━━━━━━━━━━━━━━━━━━━━━━━━━━━━━━━\u001b[0m \u001b[32m3.4/3.4 MB\u001b[0m \u001b[31m56.5 MB/s\u001b[0m eta \u001b[36m0:00:00\u001b[0m\n",
            "\u001b[2K   \u001b[90m━━━━━━━━━━━━━━━━━━━━━━━━━━━━━━━━━━━━━━━━\u001b[0m \u001b[32m425.7/425.7 kB\u001b[0m \u001b[31m17.1 MB/s\u001b[0m eta \u001b[36m0:00:00\u001b[0m\n",
            "\u001b[2K   \u001b[90m━━━━━━━━━━━━━━━━━━━━━━━━━━━━━━━━━━━━━━━━\u001b[0m \u001b[32m164.1/164.1 kB\u001b[0m \u001b[31m8.6 MB/s\u001b[0m eta \u001b[36m0:00:00\u001b[0m\n",
            "\u001b[2K   \u001b[90m━━━━━━━━━━━━━━━━━━━━━━━━━━━━━━━━━━━━━━━━\u001b[0m \u001b[32m46.0/46.0 kB\u001b[0m \u001b[31m2.2 MB/s\u001b[0m eta \u001b[36m0:00:00\u001b[0m\n",
            "\u001b[2K   \u001b[90m━━━━━━━━━━━━━━━━━━━━━━━━━━━━━━━━━━━━━━━━\u001b[0m \u001b[32m86.8/86.8 kB\u001b[0m \u001b[31m3.4 MB/s\u001b[0m eta \u001b[36m0:00:00\u001b[0m\n",
            "\u001b[?25h  Building wheel for pypika (pyproject.toml) ... \u001b[?25l\u001b[?25hdone\n"
          ]
        }
      ],
      "source": [
        "# Install library\n",
        "!pip install -q --upgrade google-generativeai langchain-google-genai chromadb pypdf"
      ]
    },
    {
      "cell_type": "code",
      "source": [
        "# Import library\n",
        "from IPython.display import Markdown\n",
        "import textwrap\n",
        "import google.generativeai as genai\n",
        "from google.colab import userdata\n",
        "import os\n",
        "\n",
        "# Get your API key, follow the instructions at\n",
        "# https://developers.google.com/generative-ai/docs/setup#get_an_api_key\n",
        "GOOGLE_API_KEY = 'YOUR_API_KEY' # Replace with your actual key\n",
        "genai.configure(api_key=GOOGLE_API_KEY)"
      ],
      "metadata": {
        "id": "BsWZHy7rs70-"
      },
      "execution_count": 55,
      "outputs": []
    },
    {
      "cell_type": "markdown",
      "source": [
        "### What are the usecases of LLMs?"
      ],
      "metadata": {
        "id": "dofEaHfQxhF1"
      }
    },
    {
      "cell_type": "code",
      "source": [
        "def to_markdown(text):\n",
        "  text = text.replace('•', '  *')\n",
        "  return Markdown(textwrap.indent(text, '> ', predicate=lambda _: True))\n",
        "\n",
        "# Generate prompt & output\n",
        "model = genai.GenerativeModel(model_name = \"gemini-pro\")\n",
        "response = model.generate_content(\"What are the usecases of LLMs?\")\n",
        "to_markdown(response.text)"
      ],
      "metadata": {
        "colab": {
          "base_uri": "https://localhost:8080/",
          "height": 800
        },
        "id": "Z2EzyOcrtfVy",
        "outputId": "461e72b8-fe33-4565-81ee-68dc72280872"
      },
      "execution_count": 51,
      "outputs": [
        {
          "output_type": "execute_result",
          "data": {
            "text/plain": [
              "<IPython.core.display.Markdown object>"
            ],
            "text/markdown": "> **1. Natural Language Processing (NLP)**\n> \n> * **Text generation:** Create text-based content, such as articles, summaries, marketing copy, and scripts.\n> * **Language translation:** Translate text between different languages, improving communication and accessibility.\n> * **Sentiment analysis:** Analyze sentiment and emotions expressed in text data, such as customer feedback and social media posts.\n> * **Question answering:** Provide answers to user questions from large text datasets, such as wikis and knowledge bases.\n> * **Named entity recognition:** Identify and classify entities (e.g., people, places, organizations) in text data.\n> * **Part-of-speech tagging:** Determine the grammatical function of words in a sentence, enhancing natural language understanding.\n> \n> **2. Search and Information Retrieval**\n> \n> * **Improved search results:** Enhance search queries by understanding user intent and providing relevant results from unstructured text data.\n> * **Document summarization:** Create concise summaries of documents, enabling faster and more efficient information consumption.\n> * **Knowledge graph construction:** Build interlinked graphs of entities and concepts, facilitating knowledge discovery and information organization.\n> \n> **3. Conversational AI**\n> \n> * **Chatbots and virtual assistants:** Engage in natural language conversations with users, providing assistance, answering questions, and automating tasks.\n> * **Language-based games:** Create interactive language-based games, such as word puzzles, trivia, and role-playing scenarios.\n> * **Dialogue generation:** Generate realistic and engaging dialogue for chatbots, virtual assistants, and other conversational AI systems.\n> \n> **4. Content Creation**\n> \n> * **Marketing and advertising:** Generate marketing content, such as email campaigns, social media posts, and landing pages.\n> * **Creative writing:** Assist writers with storytelling, character development, and plot generation.\n> * **Code generation:** Assist developers with writing code in various programming languages, automating tasks and improving efficiency.\n> * **Music and art generation:** Create original music compositions and digital artwork, exploring new possibilities in creative expression.\n> \n> **5. Education and Research**\n> \n> * **Personalized learning:** Tailor learning experiences to individual student needs by generating customized lesson plans and providing personalized feedback.\n> * **Academic writing assistance:** Assist students with writing essays, research papers, and other academic tasks, improving writing quality and fluency.\n> * **Scientific discovery:** Accelerate scientific research by analyzing large datasets, identifying patterns, and generating hypotheses.\n> \n> **6. Healthcare**\n> \n> * **Medical diagnosis:** Assist doctors with diagnosing diseases by analyzing patient symptoms and medical records.\n> * **Treatment planning:** Generate personalized treatment plans based on patient data, improving outcomes and reducing side effects.\n> * **Drug discovery:** Accelerate drug discovery and development by analyzing research data and identifying potential targets.\n> * **Clinical documentation:** Automate clinical documentation, freeing up healthcare professionals for patient care.\n> \n> **7. Business and Finance**\n> \n> * **Sales and marketing automation:** Automate sales and marketing processes, such as lead generation, qualification, and nurturing.\n> * **Customer service:** Provide instant and personalized customer support through AI-powered chatbots and virtual assistants.\n> * **Financial analysis and modeling:** Analyze financial data, generate forecasts, and identify trends, aiding decision-making and risk management.\n> * **Legal document review:** Automate document review, highlighting key points and potential issues, enhancing efficiency and accuracy."
          },
          "metadata": {},
          "execution_count": 51
        }
      ]
    },
    {
      "cell_type": "markdown",
      "source": [
        "### How to build startup business?"
      ],
      "metadata": {
        "id": "fYSxNSBtxkWU"
      }
    },
    {
      "cell_type": "code",
      "source": [
        "def to_markdown(text):\n",
        "  text = text.replace('•', '  *')\n",
        "  return Markdown(textwrap.indent(text, '> ', predicate=lambda _: True))\n",
        "\n",
        "# Generate prompt & output\n",
        "model = genai.GenerativeModel(model_name = \"gemini-pro\")\n",
        "response = model.generate_content(\"How to build startup business?\")\n",
        "to_markdown(response.text)"
      ],
      "metadata": {
        "colab": {
          "base_uri": "https://localhost:8080/",
          "height": 824
        },
        "id": "sidh1x4CtpL5",
        "outputId": "2d0f192e-a8b5-4283-c04d-d7da4abcf827"
      },
      "execution_count": 53,
      "outputs": [
        {
          "output_type": "execute_result",
          "data": {
            "text/plain": [
              "<IPython.core.display.Markdown object>"
            ],
            "text/markdown": "> **1. Define Your Idea and Market:**\n> \n> * Identify a problem or pain point that needs solving.\n> * Conduct thorough market research to validate your idea and estimate its potential.\n> * Target a specific niche or audience to focus your efforts.\n> \n> **2. Create a Business Plan:**\n> \n> * Outline your business goals, strategies, market analysis, financial projections, and operations plan.\n> * This will provide a roadmap for your startup's development and attract investors or partners.\n> \n> **3. Build a Team:**\n> \n> * Surround yourself with individuals who complement your skills and share your vision.\n> * Consider their experience, expertise, and cultural fit.\n> * Define clear roles and responsibilities to ensure efficient operations.\n> \n> **4. Secure Funding:**\n> \n> * Determine your startup's funding needs and explore financing options such as:\n>     * Bootstrapping (using personal funds)\n>     * Seed funding (investments from friends, family, or angel investors)\n>     * Venture capital (investments from professional investors)\n> \n> **5. Develop Your Product or Service:**\n> \n> * Translate your idea into a tangible product or service that meets customer needs.\n> * Focus on creating a minimum viable product (MVP) to test its functionality and gather user feedback.\n> * Seek expert advice from engineers, designers, and other professionals as needed.\n> \n> **6. Establish Your Brand and Marketing:**\n> \n> * Create a strong brand identity that resonates with your target audience.\n> * Develop a marketing strategy that outlines your target channels, messaging, and promotional activities.\n> * Utilize online and offline channels to build awareness and generate interest.\n> \n> **7. Launch and Iterate:**\n> \n> * Bring your product or service to market and gather user feedback.\n> * Monitor metrics to track progress and make necessary adjustments.\n> * Continuously improve and iterate based on customer insights and market demands.\n> \n> **8. Build Partnerships and Collaborations:**\n> \n> * Explore collaborations with complementary businesses or industry leaders.\n> * Form strategic alliances to expand your reach, leverage resources, and gain competitive advantages.\n> \n> **9. Seek Professional Guidance:**\n> \n> * Consult with lawyers, accountants, and mentors to ensure legal compliance, financial planning, and sound decision-making.\n> * Their expertise can help you navigate challenges and optimize your startup's growth.\n> \n> **10. Stay Resilient and Adapt:**\n> \n> * Startups face challenges, setbacks, and unexpected twists and turns.\n> * Be prepared to pivot your strategy, adjust your plans, and overcome obstacles.\n> * Stay positive, learn from your mistakes, and never give up on your vision."
          },
          "metadata": {},
          "execution_count": 53
        }
      ]
    },
    {
      "cell_type": "markdown",
      "source": [
        "### What is the best cryptocurrency's token now?"
      ],
      "metadata": {
        "id": "TIKU7p1dxq0H"
      }
    },
    {
      "cell_type": "code",
      "source": [
        "def to_markdown(text):\n",
        "  text = text.replace('•', '  *')\n",
        "  return Markdown(textwrap.indent(text, '> ', predicate=lambda _: True))\n",
        "\n",
        "# Generate prompt & output\n",
        "model = genai.GenerativeModel(model_name = \"gemini-pro\")\n",
        "response = model.generate_content(\"What is the best cryptocurrency's token now?\")\n",
        "to_markdown(response.text)"
      ],
      "metadata": {
        "colab": {
          "base_uri": "https://localhost:8080/",
          "height": 329
        },
        "id": "BeiKccgNwH3s",
        "outputId": "39576a2c-7209-4b39-d982-b83871b89470"
      },
      "execution_count": 56,
      "outputs": [
        {
          "output_type": "execute_result",
          "data": {
            "text/plain": [
              "<IPython.core.display.Markdown object>"
            ],
            "text/markdown": "> The best cryptocurrency token depends on individual preferences, investment goals, and market conditions. Some of the top-performing cryptocurrencies in terms of market capitalization and technical fundamentals include:\n> \n> * **Bitcoin (BTC):** The original and largest cryptocurrency, known for its decentralized and immutable network.\n> * **Ethereum (ETH):** A popular platform for decentralized applications (dApps) and smart contracts.\n> * **Binance Coin (BNB):** The native token of the Binance exchange, used for trading fees, staking, and access to exclusive features.\n> * **Solana (SOL):** A high-performance blockchain known for its fast transaction speeds and low fees.\n> * **Tether (USDT):** A stablecoin pegged to the US dollar, providing stability and liquidity to the crypto market.\n> \n> Other promising tokens to consider include:\n> \n> * **Cardano (ADA):** A proof-of-stake blockchain known for its advanced smart contract capabilities.\n> * **Polkadot (DOT):** A multi-chain network that allows for interoperability between different blockchains.\n> * **Chainlink (LINK):** A decentralized oracle network that provides external data to smart contracts.\n> * **Filecoin (FIL):** A decentralized file storage network offering secure and reliable storage.\n> * **Axie Infinity (AXS):** A popular play-to-earn game with a focus on virtual pets and battles.\n> \n> It's important to note that the cryptocurrency market is volatile, and token prices can fluctuate significantly. Conduct thorough research and due diligence before investing in any cryptocurrency."
          },
          "metadata": {},
          "execution_count": 56
        }
      ]
    },
    {
      "cell_type": "markdown",
      "source": [
        "### What is the best company stock now?"
      ],
      "metadata": {
        "id": "-6xXRkRxyz47"
      }
    },
    {
      "cell_type": "code",
      "source": [
        "def to_markdown(text):\n",
        "  text = text.replace('•', '  *')\n",
        "  return Markdown(textwrap.indent(text, '> ', predicate=lambda _: True))\n",
        "\n",
        "# Generate prompt & output\n",
        "model = genai.GenerativeModel(model_name = \"gemini-pro\")\n",
        "response = model.generate_content(\"What is the best company stock now?\")\n",
        "to_markdown(response.text)"
      ],
      "metadata": {
        "colab": {
          "base_uri": "https://localhost:8080/",
          "height": 462
        },
        "id": "zaT200Mlxtcc",
        "outputId": "cc01898e-69e4-4a73-b7c6-a8b612f72582"
      },
      "execution_count": 57,
      "outputs": [
        {
          "output_type": "execute_result",
          "data": {
            "text/plain": [
              "<IPython.core.display.Markdown object>"
            ],
            "text/markdown": "> Determining the best company stock now requires a comprehensive analysis, considering various factors and market dynamics. Here are some of the companies that are generally considered strong performers and may be worth considering based on their recent performance and market outlook:\n> \n> 1. **Apple (AAPL)**: Apple is a technology giant known for its innovative products, including the iPhone, iPad, and Mac. The company has a strong brand loyalty and a consistent track record of financial performance.\n> \n> 2. **Microsoft (MSFT)**: Microsoft is another technology leader, known for its Windows operating system, Office productivity suite, and cloud computing services. The company has a large and diverse revenue stream, providing stability and growth potential.\n> \n> 3. **Amazon (AMZN)**: Amazon is an e-commerce behemoth that has expanded into various sectors, including cloud computing, streaming services, and artificial intelligence. The company's vast reach and customer base drive its continued growth and innovation.\n> \n> 4. **Alphabet (GOOG)**: Alphabet, the parent company of Google, is a major player in the technology industry. Google's search engine, advertising platform, and cloud services provide significant revenue streams and growth opportunities.\n> \n> 5. **Tesla (TSLA)**: Tesla is a leader in electric vehicles and clean energy solutions. The company has a disruptive technology and a strong brand following, driving its growth and valuation.\n> \n> 6. **UnitedHealth Group (UNH)**: UnitedHealth Group is a healthcare giant that provides health insurance, healthcare services, and pharmaceutical benefits. The company's strong market position and diversified revenue streams make it a stable investment.\n> \n> 7. **Berkshire Hathaway (BRK.A)**: Berkshire Hathaway is a conglomerate led by Warren Buffett, known for its long-term investment approach. The company has a wide range of businesses, including insurance, energy, and manufacturing, providing diversification and potential for growth.\n> \n> 8. **Johnson & Johnson (JNJ)**: Johnson & Johnson is a healthcare and consumer products company known for its trusted brands and consistent performance. The company's diversified portfolio and focus on innovation provide stability and growth potential.\n> \n> Remember that stock prices can fluctuate significantly, and it's essential to conduct thorough research and consult with a financial advisor before making any investment decisions."
          },
          "metadata": {},
          "execution_count": 57
        }
      ]
    },
    {
      "cell_type": "markdown",
      "source": [
        "### Example of Generative AI project ideas on 2024"
      ],
      "metadata": {
        "id": "PlMRgBjwzdIc"
      }
    },
    {
      "cell_type": "code",
      "source": [
        "def to_markdown(text):\n",
        "  text = text.replace('•', '  *')\n",
        "  return Markdown(textwrap.indent(text, '> ', predicate=lambda _: True))\n",
        "\n",
        "# Generate prompt & output\n",
        "model = genai.GenerativeModel(model_name = \"gemini-pro\")\n",
        "response = model.generate_content(\"Example of Generative AI project ideas on 2024\")\n",
        "to_markdown(response.text)"
      ],
      "metadata": {
        "colab": {
          "base_uri": "https://localhost:8080/",
          "height": 678
        },
        "id": "6ts9ILXjzIQr",
        "outputId": "3944aedf-eb43-42fe-f69c-dc853a50fe37"
      },
      "execution_count": 58,
      "outputs": [
        {
          "output_type": "execute_result",
          "data": {
            "text/plain": [
              "<IPython.core.display.Markdown object>"
            ],
            "text/markdown": "> **Natural Language Generation (NLG):**\n> \n> * **Automated Content Generation:** Create compelling and informative content for blogs, websites, social media, and more, reducing manual writing efforts.\n> * **Language Translation and Localization:** Translate texts seamlessly between languages, enabling cross-cultural communication and global business expansion.\n> \n> **Image and Video Generation:**\n> \n> * **Image-to-Image Generation:** Transform photos into artistic masterpieces, generate realistic images from text descriptions, or create AI-generated stock imagery.\n> * **Video Creation and Editing:** Generate original videos from scratch, enhance existing footage with special effects, or create personalized video messages.\n> \n> **Music Generation:**\n> \n> * **Music Composition and Production:** Collaborate with generative AI to compose unique music tracks for different genres and moods, enhancing creativity and productivity.\n> * **Personalized Music Recommendations:** Create customized playlists based on user preferences, providing a tailored listening experience.\n> \n> **Healthcare Applications:**\n> \n> * **Medical Diagnosis and Prognosis:** Leverage generative AI to analyze medical images and data, assisting in diagnosing and predicting patient outcomes.\n> * **Drug Discovery and Development:** Identify potential drug candidates and accelerate the development process by using AI to generate molecular structures and predict their properties.\n> \n> **Customer Service and Experience:**\n> \n> * **Personalized Chatbots:** Develop conversational AI assistants that provide real-time support, answer customer queries, and offer personalized experiences.\n> * **Predictive Analytics and Recommendations:** Analyze customer data to identify trends, predict future behavior, and provide personalized recommendations.\n> \n> **Other Creative Applications:**\n> \n> * **Generative Art:** Create unique and captivating artwork using generative AI, exploring new artistic styles and techniques.\n> * **Personalized and Immersive Gaming:** Develop AI-powered games that customize gameplay, generate realistic environments, and engage players with unique experiences.\n> \n> **Data and Business Applications:**\n> \n> * **Text Summarization and Abstraction:** Extract key insights and generate concise summaries from large volumes of text data.\n> * **Data Generation and Augmentation:** Create high-quality synthetic data for model training, testing, and evaluation, addressing data scarcity issues."
          },
          "metadata": {},
          "execution_count": 58
        }
      ]
    },
    {
      "cell_type": "markdown",
      "source": [
        "### The expensive car brands on 2024"
      ],
      "metadata": {
        "id": "GM85LI-Y07nb"
      }
    },
    {
      "cell_type": "code",
      "source": [
        "def to_markdown(text):\n",
        "  text = text.replace('•', '  *')\n",
        "  return Markdown(textwrap.indent(text, '> ', predicate=lambda _: True))\n",
        "\n",
        "# Generate prompt & output\n",
        "model = genai.GenerativeModel(model_name = \"gemini-pro\")\n",
        "response = model.generate_content(\"The expensive car brands on 2024\")\n",
        "to_markdown(response.text)"
      ],
      "metadata": {
        "colab": {
          "base_uri": "https://localhost:8080/",
          "height": 703
        },
        "id": "2LS0r-LNzf0j",
        "outputId": "16227c92-1d03-48c4-cc66-f0311aac5f90"
      },
      "execution_count": 59,
      "outputs": [
        {
          "output_type": "execute_result",
          "data": {
            "text/plain": [
              "<IPython.core.display.Markdown object>"
            ],
            "text/markdown": "> **Top Luxury Car Brands 2024**\n> \n> **1. Rolls-Royce**\n> \n> * Known for its opulent interiors, personalized designs, and high-performance engines.\n> * Model highlight: Phantom Series VIII\n> \n> **2. Bentley**\n> \n> * Offers a balance of luxury, performance, and craftsmanship.\n> * Model highlight: Continental GT\n> \n> **3. Lamborghini**\n> \n> * Renowned for its exotic sports cars with sleek designs and powerful engines.\n> * Model highlight: Aventador Ultimae\n> \n> **4. Ferrari**\n> \n> * Italian automaker specializing in high-performance sports cars and supercars.\n> * Model highlight: 812 Competizione\n> \n> **5. Aston Martin**\n> \n> * British luxury carmaker known for its sleek designs and powerful engines.\n> * Model highlight: Valkyrie\n> \n> **6. McLaren**\n> \n> * British automotive manufacturer focused on supercars and high-performance vehicles.\n> * Model highlight: Artura\n> \n> **7. Mercedes-Maybach**\n> \n> * Sub-brand of Mercedes-Benz that offers ultra-luxurious sedans and SUVs.\n> * Model highlight: GLS Maybach\n> \n> **8. Porsche**\n> \n> * German automaker known for its sports cars and luxury vehicles.\n> * Model highlight: 911 GT3 RS\n> \n> **9. Lexus**\n> \n> * Luxury brand of Toyota, known for its reliability, advanced technology, and comfortable interiors.\n> * Model highlight: LS 500h\n> \n> **10. Genesis**\n> \n> * South Korean luxury carmaker known for its elegant designs and high-tech features.\n> * Model highlight: G90"
          },
          "metadata": {},
          "execution_count": 59
        }
      ]
    },
    {
      "cell_type": "markdown",
      "source": [
        "### The expensive bike brands on 2024"
      ],
      "metadata": {
        "id": "i4K0mk3E1JH7"
      }
    },
    {
      "cell_type": "code",
      "source": [
        "def to_markdown(text):\n",
        "  text = text.replace('•', '  *')\n",
        "  return Markdown(textwrap.indent(text, '> ', predicate=lambda _: True))\n",
        "\n",
        "# Generate prompt & output\n",
        "model = genai.GenerativeModel(model_name = \"gemini-pro\")\n",
        "response = model.generate_content(\"The expensive bike brands on 2024\")\n",
        "to_markdown(response.text)"
      ],
      "metadata": {
        "colab": {
          "base_uri": "https://localhost:8080/",
          "height": 883
        },
        "id": "GJMWw-_i0-TD",
        "outputId": "be01b1f6-33d6-429c-c3f1-9dc0e9e6c692"
      },
      "execution_count": 60,
      "outputs": [
        {
          "output_type": "execute_result",
          "data": {
            "text/plain": [
              "<IPython.core.display.Markdown object>"
            ],
            "text/markdown": "> **1. Pinarello**\n> \n> * Founded in 1952 in Treviso, Italy\n> * Known for its high-end road bikes, including the Dogma F12 and the Grevil+\n> * Estimated price range: $5,000-$15,000\n> \n> **2. Cervélo**\n> \n> * Founded in 1995 in Toronto, Canada\n> * Known for its aerodynamic road bikes, including the S5 and the Caledonia\n> * Estimated price range: $4,000-$12,000\n> \n> **3. Colnago**\n> \n> * Founded in 1954 in Cambiago, Italy\n> * Known for its classic-styled road bikes, including the C64 and the V3Rs\n> * Estimated price range: $4,500-$15,000\n> \n> **4. Trek**\n> \n> * Founded in 1976 in Waterloo, Wisconsin\n> * Known for its versatile bikes, including road bikes, mountain bikes, and hybrids\n> * Estimated price range: $3,000-$10,000\n> \n> **5. Specialized**\n> \n> * Founded in 1974 in Morgan Hill, California\n> * Known for its innovative bikes, including the S-Works Tarmac and the Epic EVO\n> * Estimated price range: $3,500-$12,000\n> \n> **6. BMC**\n> \n> * Founded in 2001 in Grenchen, Switzerland\n> * Known for its lightweight and stiff road bikes, including the Teammachine SLR and the Roadmachine\n> * Estimated price range: $4,000-$15,000\n> \n> **7. Canyon**\n> \n> * Founded in 2002 in Koblenz, Germany\n> * Known for its direct-to-consumer sales model and its high-value bikes\n> * Estimated price range: $2,500-$10,000\n> \n> **8. Scott**\n> \n> * Founded in 1958 in Givisiez, Switzerland\n> * Known for its mountain bikes, road bikes, and cyclocross bikes\n> * Estimated price range: $3,000-$12,000\n> \n> **9. Giant**\n> \n> * Founded in 1972 in Taichung, Taiwan\n> * Known for its affordable and high-quality bikes, including road bikes, mountain bikes, and hybrids\n> * Estimated price range: $1,500-$8,000\n> \n> **10. Orbea**\n> \n> * Founded in 1840 in Mallabia, Spain\n> * Known for its high-performance road bikes, including the Orca and the Terra\n> * Estimated price range: $3,500-$12,000"
          },
          "metadata": {},
          "execution_count": 60
        }
      ]
    },
    {
      "cell_type": "markdown",
      "source": [
        "### Examples e-commerce at America"
      ],
      "metadata": {
        "id": "RmNjOHXQ1w2C"
      }
    },
    {
      "cell_type": "code",
      "source": [
        "def to_markdown(text):\n",
        "  text = text.replace('•', '  *')\n",
        "  return Markdown(textwrap.indent(text, '> ', predicate=lambda _: True))\n",
        "\n",
        "# Generate prompt & output\n",
        "model = genai.GenerativeModel(model_name = \"gemini-pro\")\n",
        "response = model.generate_content(\"Examples e-commerce at America\")\n",
        "to_markdown(response.text)"
      ],
      "metadata": {
        "colab": {
          "base_uri": "https://localhost:8080/",
          "height": 387
        },
        "id": "spUjECky1M1q",
        "outputId": "23b9aaf4-46df-4d4f-ea57-ccd0c63d5b6a"
      },
      "execution_count": 61,
      "outputs": [
        {
          "output_type": "execute_result",
          "data": {
            "text/plain": [
              "<IPython.core.display.Markdown object>"
            ],
            "text/markdown": "> **Major E-commerce Platforms:**\n> \n> * **Amazon:** World's largest online retailer, offering a vast selection of products across various categories.\n> * **Walmart:** Leading brick-and-mortar retailer with a strong online presence, known for its competitive pricing.\n> * **Target:** Department store chain with a user-friendly e-commerce platform, offering a wide range of products.\n> * **Home Depot:** Home improvement retailer with an expansive online store specializing in hardware, appliances, and home décor.\n> * **Best Buy:** Electronics and appliances retailer with a robust e-commerce platform, offering expert advice and competitive prices.\n> \n> **Specialty E-commerce Sites:**\n> \n> * **Zappos:** Online retailer specializing in shoes, clothing, and accessories, known for its excellent customer service.\n> * **Etsy:** Marketplace for handmade and vintage items, connecting artisans with buyers.\n> * **Wayfair:** Home furnishing and décor e-commerce site offering a wide selection and design inspiration.\n> * **Sephora:** Beauty retailer with an extensive online store, offering a comprehensive range of makeup, skincare, and fragrance.\n> * **ASOS:** Fashion and beauty e-commerce site targeting young adults, known for its trendy and affordable options.\n> \n> **Other Notable E-commerce Companies:**\n> \n> * **eBay:** Online auction and marketplace for a wide variety of new and used items.\n> * **Priceline:** Travel e-commerce site offering deals on flights, hotels, and rental cars.\n> * **Groupon:** Daily deals site featuring discounts on local services, experiences, and products.\n> * **Chewy:** Online pet supply retailer offering a wide range of pet food, accessories, and health products.\n> * **Instacart:** Grocery delivery service that partners with major supermarkets to deliver groceries to customers' homes."
          },
          "metadata": {},
          "execution_count": 61
        }
      ]
    },
    {
      "cell_type": "markdown",
      "source": [
        "### Examples e-commerce at Indonesia"
      ],
      "metadata": {
        "id": "eCtA1fZv2AL8"
      }
    },
    {
      "cell_type": "code",
      "source": [
        "def to_markdown(text):\n",
        "  text = text.replace('•', '  *')\n",
        "  return Markdown(textwrap.indent(text, '> ', predicate=lambda _: True))\n",
        "\n",
        "# Generate prompt & output\n",
        "model = genai.GenerativeModel(model_name = \"gemini-pro\")\n",
        "response = model.generate_content(\"Examples e-commerce at Indonesia\")\n",
        "to_markdown(response.text)"
      ],
      "metadata": {
        "colab": {
          "base_uri": "https://localhost:8080/",
          "height": 521
        },
        "id": "9uAwCI0511Jy",
        "outputId": "b3c86710-f48f-456c-eaab-c4bd9d983dd2"
      },
      "execution_count": 62,
      "outputs": [
        {
          "output_type": "execute_result",
          "data": {
            "text/plain": [
              "<IPython.core.display.Markdown object>"
            ],
            "text/markdown": "> **Major E-commerce Platforms:**\n> \n> * **Tokopedia:** Largest e-commerce marketplace in Indonesia\n> * **Shopee:** Second largest marketplace, popular for fashion and electronics\n> * **Lazada:** Third largest marketplace, known for its wide product selection\n> * **Bukalapak:** Popular for used goods and peer-to-peer selling\n> \n> **Specialty E-commerce Platforms:**\n> \n> * **Zalora:** Fashion and beauty e-commerce site\n> * **Sociolla:** Cosmetics and skincare e-commerce platform\n> * **Blibli:** Electronics and home appliance e-commerce site\n> * **Tiket:** Travel and event ticketing platform\n> * **Traveloka:** Travel booking and accommodation e-commerce site\n> \n> **Other Notable E-commerce Companies:**\n> \n> * **Orami:** Baby and parenting e-commerce platform\n> * **Ruangguru:** Educational technology e-commerce platform\n> * **Toko Merah:** Grocery and home essentials e-commerce site\n> * **SiCepat Ekspres:** Logistics and delivery company\n> * **J&T Express:** Another major logistics and delivery company\n> \n> **Key Features of Indonesian E-commerce:**\n> \n> * **Mobile-first:** Majority of e-commerce transactions are made through mobile devices.\n> * **Cash on delivery:** Cash payments remain popular, especially for smaller purchases.\n> * **Flexible payment options:** Platforms offer a range of payment methods, including credit cards, e-wallets, and installment plans.\n> * **Social media integration:** Social media platforms are heavily integrated with e-commerce, driving traffic and sales.\n> * **Influencer marketing:** Influencers play a significant role in promoting products and building brand awareness.\n> * **Hyperlocal delivery:** E-commerce companies are expanding into hyperlocal deliveries to cater to on-demand needs.\n> * **Government support:** The Indonesian government actively supports the e-commerce industry through policies and initiatives."
          },
          "metadata": {},
          "execution_count": 62
        }
      ]
    },
    {
      "cell_type": "markdown",
      "source": [
        "### The expensive of laptop brands on 2024"
      ],
      "metadata": {
        "id": "Lhqp5TM825Ez"
      }
    },
    {
      "cell_type": "code",
      "source": [
        "def to_markdown(text):\n",
        "  text = text.replace('•', '  *')\n",
        "  return Markdown(textwrap.indent(text, '> ', predicate=lambda _: True))\n",
        "\n",
        "# Generate prompt & output\n",
        "model = genai.GenerativeModel(model_name = \"gemini-pro\")\n",
        "response = model.generate_content(\"The expensive of laptop brands on 2024\")\n",
        "to_markdown(response.text)"
      ],
      "metadata": {
        "colab": {
          "base_uri": "https://localhost:8080/",
          "height": 621
        },
        "id": "HcbkqjOn2Hk6",
        "outputId": "0b18d62f-3680-4bea-ac88-b05dd0cb0ef8"
      },
      "execution_count": 64,
      "outputs": [
        {
          "output_type": "execute_result",
          "data": {
            "text/plain": [
              "<IPython.core.display.Markdown object>"
            ],
            "text/markdown": "> **Predicted Prices of Laptop Brands in 2024**\n> \n> Predicting the exact prices of laptop brands in 2024 is challenging due to factors such as technological advancements, economic conditions, and market competition. However, based on current trends and market analysis, here are some estimates:\n> \n> **Luxury Brands:**\n> \n> * **Apple MacBook Pro:** $2,500 - $4,500\n> * **Microsoft Surface Laptop Studio:** $2,000 - $3,500\n> * **Dell XPS:** $2,000 - $3,000\n> \n> **High-End Brands:**\n> \n> * **Lenovo ThinkPad:** $1,500 - $2,500\n> * **Razer Blade:** $1,800 - $2,800\n> * **Asus ROG Strix:** $1,600 - $2,600\n> \n> **Mid-Range Brands:**\n> \n> * **Acer Swift:** $800 - $1,500\n> * **Dell Inspiron:** $700 - $1,300\n> * **HP Envy:** $800 - $1,400\n> \n> **Budget Brands:**\n> \n> * **Chromebook:** $300 - $700\n> * **Lenovo IdeaPad:** $400 - $800\n> * **Asus Vivobook:** $450 - $900\n> \n> **Factors Influencing Prices:**\n> \n> * **Technological Advancements:** Innovations in processor technology, display quality, and battery life can drive up prices.\n> * **Economic Conditions:** Inflation and market fluctuations can impact manufacturing costs and retail prices.\n> * **Market Competition:** Fierce competition among brands can result in price wars or premium pricing for exclusive features.\n> * **Brand Reputation:** Established brands with strong reputations command更高的价格.\n> * **Supply Chain Issues:** Disruptions in global supply chains can lead to increased production costs and higher prices for consumers.\n> \n> It's important to note that these are estimates and actual prices may vary depending on specific models, configurations, and market conditions at the time of purchase."
          },
          "metadata": {},
          "execution_count": 64
        }
      ]
    }
  ]
}